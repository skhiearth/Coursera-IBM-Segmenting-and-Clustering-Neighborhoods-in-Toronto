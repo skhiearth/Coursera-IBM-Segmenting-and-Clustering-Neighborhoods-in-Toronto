{
    "nbformat_minor": 1, 
    "cells": [
        {
            "source": "<h1 align=center><font size = 5>Segmenting and Clustering Neighborhoods in Toronto</font></h1>", 
            "cell_type": "markdown", 
            "metadata": {
                "collapsed": true
            }
        }, 
        {
            "source": "## Introduction\n\nIn this lab, we convert addresses into their equivalent latitude and longitude values and use the Foursquare API to explore neighborhoods in Toronto. Using, the **explore** function we get the most common venue categories in each neighborhood, and then use this feature to group the neighborhoods into clusters using the *k*-means clustering algorithm to complete this task. Finally, the Folium library is used to visualize the neighborhoods in Toronto and their emerging clusters.", 
            "cell_type": "markdown", 
            "metadata": {}
        }, 
        {
            "source": "## Importing required libraries", 
            "cell_type": "markdown", 
            "metadata": {}
        }, 
        {
            "execution_count": null, 
            "cell_type": "code", 
            "metadata": {}, 
            "outputs": [], 
            "source": "import requests # library to handle requests\nimport pandas as pd # library for data analsysis\nimport numpy as np # library to handle data in a vectorized manner\nimport random # library for random number generation\n\n!conda install -c conda-forge geopy --yes \nfrom geopy.geocoders import Nominatim # module to convert an address into latitude and longitude values\n\n# libraries for displaying images\nfrom IPython.display import Image \nfrom IPython.core.display import HTML \n    \n# tranforming json file into a pandas dataframe library\nfrom pandas.io.json import json_normalize\n\n!conda install -c conda-forge folium=0.5.0 --yes\nimport folium # plotting library\n\nprint('Folium installed')\nprint('Libraries imported.')"
        }
    ], 
    "metadata": {
        "kernelspec": {
            "display_name": "Python 3.5", 
            "name": "python3", 
            "language": "python"
        }, 
        "language_info": {
            "mimetype": "text/x-python", 
            "nbconvert_exporter": "python", 
            "version": "3.5.5", 
            "name": "python", 
            "file_extension": ".py", 
            "pygments_lexer": "ipython3", 
            "codemirror_mode": {
                "version": 3, 
                "name": "ipython"
            }
        }
    }, 
    "nbformat": 4
}